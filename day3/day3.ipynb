{
 "cells": [
  {
   "cell_type": "code",
   "execution_count": 5,
   "metadata": {},
   "outputs": [],
   "source": [
    "# each rucksack has two compartments\n",
    "# each item is supposed to go into one of the compartments\n",
    "\n",
    "# there is a single character that appears in both compartments\n",
    "# find the character and return it\n",
    "\n",
    "# the return is the value of that character according to this table\n",
    "\n",
    "alphabet = \"abcdefghijklmnopqrstuvwxyz\"\n",
    "# the value of each character is its position in the alphabet + 1\n",
    "# the value of an upper case character is its position in the alphabet + 27\n"
   ]
  },
  {
   "cell_type": "code",
   "execution_count": 21,
   "metadata": {},
   "outputs": [],
   "source": [
    "with open(\"input.txt\") as f:\n",
    "    rows = f.readlines()"
   ]
  },
  {
   "cell_type": "code",
   "execution_count": 33,
   "metadata": {},
   "outputs": [],
   "source": [
    "sampleRows=[\n",
    "    'vJrwpWtwJgWrhcsFMMfFFhFp',\n",
    "    'jqHRNqRjqzjGDLGLrsFMfFZSrLrFZsSL',\n",
    "    'PmmdzqPrVvPwwTWBwg',\n",
    "    'wMqvLMZHhHMvwLHjbvcjnnSBnvTQFn',\n",
    "    'ttgJtRGJQctTZtZT',\n",
    "    'CrZsJsPPZsGzwwsLwLmpwMDw'\n",
    "]\n",
    "\n",
    "def find_matching_char(row):\n",
    "    halfway = len(row) // 2\n",
    "    left, right = row[:halfway], row[halfway:]\n",
    "    return list(set(left).intersection(set(right)))[0]\n",
    "\n",
    "topLetterPerRow = [\n",
    "    find_matching_char(row)\n",
    "    for row in rows\n",
    "]\n"
   ]
  },
  {
   "cell_type": "code",
   "execution_count": 34,
   "metadata": {},
   "outputs": [
    {
     "name": "stdout",
     "output_type": "stream",
     "text": [
      "7875\n"
     ]
    }
   ],
   "source": [
    "def score_letter(letter):\n",
    "    if letter.islower():\n",
    "        return alphabet.index(letter) + 1\n",
    "    else:\n",
    "        return alphabet.index(letter.lower()) + 27\n",
    "\n",
    "letterScores = [score_letter(letter) for letter in topLetterPerRow]\n",
    "\n",
    "print(sum(letterScores))"
   ]
  },
  {
   "cell_type": "code",
   "execution_count": 46,
   "metadata": {},
   "outputs": [
    {
     "name": "stdout",
     "output_type": "stream",
     "text": [
      "2479\n"
     ]
    }
   ],
   "source": [
    "# part 2\n",
    "\n",
    "# for each set of three rows, find the character that appears in all three\n",
    "\n",
    "def find_grp_matching_char(left, middle, right):\n",
    "    return list(set(left).intersection(set(middle), set(right)))[0]\n",
    "\n",
    "stripRows = [row.strip() for row in rows]\n",
    "grps = zip(*[iter(stripRows)]*3)\n",
    "\n",
    "grpLetterScores = sum(\n",
    "    [\n",
    "        score_letter(find_grp_matching_char(x,y,z))\n",
    "        for x,y,z in grps\n",
    "    ]\n",
    ")\n",
    "print(grpLetterScores)\n"
   ]
  }
 ],
 "metadata": {
  "kernelspec": {
   "display_name": "Python 3.7.0 64-bit",
   "language": "python",
   "name": "python3"
  },
  "language_info": {
   "codemirror_mode": {
    "name": "ipython",
    "version": 3
   },
   "file_extension": ".py",
   "mimetype": "text/x-python",
   "name": "python",
   "nbconvert_exporter": "python",
   "pygments_lexer": "ipython3",
   "version": "3.7.0"
  },
  "orig_nbformat": 4,
  "vscode": {
   "interpreter": {
    "hash": "e28d35bccbadb44b83755d1086fed42c654da6cd559b4dec83a572c4a59f5af3"
   }
  }
 },
 "nbformat": 4,
 "nbformat_minor": 2
}
