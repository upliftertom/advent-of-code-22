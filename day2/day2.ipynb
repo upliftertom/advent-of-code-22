{
 "cells": [
  {
   "cell_type": "code",
   "execution_count": 18,
   "metadata": {},
   "outputs": [],
   "source": [
    "# the score for each round is dependent on the shape selected\n",
    "\n",
    "scores = {\n",
    "    \"A\": 1,\n",
    "    \"B\": 2,\n",
    "    \"C\": 3,\n",
    "    \"X\": 1,\n",
    "    \"Y\": 2,\n",
    "    \"Z\": 3,\n",
    "}\n",
    "\n",
    "outcome = {\n",
    "    \"X\": \"lose\",\n",
    "    \"Y\": \"draw\",\n",
    "    \"Z\": \"win\",\n",
    "}\n",
    "\n",
    "#          # rock paper scissors\n",
    "p1Scores = [\"A\",\"B\",\"C\"]\n",
    "p2Scores = [\"X\",\"Y\",\"Z\"]\n",
    "\n",
    "winningCombos = [\n",
    "    [\"A\",\"Y\"],\n",
    "    [\"B\",\"Z\"],\n",
    "    [\"C\",\"X\"],\n",
    "]\n",
    "\n",
    "# winning the game gets you 6 points\n",
    "# drawing the game gets you 3 points\n",
    "# losing the game gets you 0 points"
   ]
  },
  {
   "cell_type": "code",
   "execution_count": null,
   "metadata": {},
   "outputs": [],
   "source": [
    "with open(\"input.txt\") as f:\n",
    "    data = f.read().splitlines()"
   ]
  },
  {
   "cell_type": "code",
   "execution_count": 14,
   "metadata": {},
   "outputs": [
    {
     "data": {
      "text/plain": [
       "11386"
      ]
     },
     "execution_count": 14,
     "metadata": {},
     "output_type": "execute_result"
    }
   ],
   "source": [
    "\n",
    "def score_game(game):\n",
    "    p1, p2 = game.split()\n",
    "\n",
    "    # print(\"*\"*12)\n",
    "    # print(\"Player 1: \", p1)\n",
    "    # print(\"Player 2: \", p2)\n",
    "\n",
    "    # assume it was a draw\n",
    "    p2Score = scores[p2]\n",
    "\n",
    "    if p1Scores.index(p1) == p2Scores.index(p2):\n",
    "        # print(\"Draw\", 3, p2Score)\n",
    "        return 3 + p2Score\n",
    "    \n",
    "    if [p1, p2] in winningCombos:\n",
    "        # print(\"win\", 6, p2Score)\n",
    "        return 6 + p2Score\n",
    "    \n",
    "    # print(\"lose\", 0, p2Score)\n",
    "    return 0 + p2Score\n",
    "\n",
    "\n",
    "finalScore = sum(\n",
    "    score_game(x)\n",
    "    for x in data\n",
    ")\n",
    "\n",
    "finalScore"
   ]
  },
  {
   "cell_type": "code",
   "execution_count": 20,
   "metadata": {},
   "outputs": [
    {
     "data": {
      "text/plain": [
       "13600"
      ]
     },
     "execution_count": 20,
     "metadata": {},
     "output_type": "execute_result"
    }
   ],
   "source": [
    "winningCombosMap = {\n",
    "    \"A\": \"Y\",\n",
    "    \"B\": \"Z\",\n",
    "    \"C\": \"X\",\n",
    "}\n",
    "\n",
    "\n",
    "losingCombos = {\n",
    "    \"A\": \"Z\",\n",
    "    \"B\": \"X\",\n",
    "    \"C\": \"Y\",\n",
    "}\n",
    "\n",
    "\n",
    "def score_game_with_rules(game):\n",
    "    p1, p2Outcome = game.split()\n",
    "\n",
    "    # assume it was a draw\n",
    "    p1Score = scores[p1]\n",
    "\n",
    "    if outcome[p2Outcome] == \"draw\":\n",
    "        # print(\"Draw\", 3, p2Score)\n",
    "        return p1Score + 3\n",
    "\n",
    "    if outcome[p2Outcome] == \"win\":\n",
    "        # print(\"win\", 6, p2Score)\n",
    "        return scores[winningCombosMap[p1]] + 6\n",
    "    \n",
    "    if outcome[p2Outcome] == \"lose\":\n",
    "        # print(\"lose\", 0, p2Score)\n",
    "        return scores[losingCombos[p1]] + 0\n",
    "\n",
    "\n",
    "    return 0\n",
    "\n",
    "\n",
    "finalScoreRules = sum(\n",
    "    score_game_with_rules(x)\n",
    "    for x in data\n",
    ")\n",
    "\n",
    "finalScoreRules"
   ]
  }
 ],
 "metadata": {
  "kernelspec": {
   "display_name": "Python 3.7.0 64-bit",
   "language": "python",
   "name": "python3"
  },
  "language_info": {
   "codemirror_mode": {
    "name": "ipython",
    "version": 3
   },
   "file_extension": ".py",
   "mimetype": "text/x-python",
   "name": "python",
   "nbconvert_exporter": "python",
   "pygments_lexer": "ipython3",
   "version": "3.7.0"
  },
  "orig_nbformat": 4,
  "vscode": {
   "interpreter": {
    "hash": "e28d35bccbadb44b83755d1086fed42c654da6cd559b4dec83a572c4a59f5af3"
   }
  }
 },
 "nbformat": 4,
 "nbformat_minor": 2
}
