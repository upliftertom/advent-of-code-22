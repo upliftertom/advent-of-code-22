{
 "cells": [
  {
   "cell_type": "markdown",
   "metadata": {},
   "source": [
    "--- Day 8: Treetop Tree House ---\n",
    "The expedition comes across a peculiar patch of tall trees all planted carefully in a grid. The Elves explain that a previous expedition planted these trees as a reforestation effort. Now, they're curious if this would be a good location for a tree house.\n",
    "\n",
    "First, determine whether there is enough tree cover here to keep a tree house hidden. To do this, you need to count the number of trees that are visible from outside the grid when looking directly along a row or column.\n",
    "\n",
    "The Elves have already launched a quadcopter to generate a map with the height of each tree (your puzzle input). For example:\n",
    "\n",
    "30373\n",
    "25512\n",
    "65332\n",
    "33549\n",
    "35390\n",
    "Each tree is represented as a single digit whose value is its height, where 0 is the shortest and 9 is the tallest.\n",
    "\n",
    "A tree is visible if all of the other trees between it and an edge of the grid are shorter than it. Only consider trees in the same row or column; that is, only look up, down, left, or right from any given tree.\n",
    "\n",
    "All of the trees around the edge of the grid are visible - since they are already on the edge, there are no trees to block the view. In this example, that only leaves the interior nine trees to consider:\n",
    "\n",
    "The top-left 5 is visible from the left and top. (It isn't visible from the right or bottom since other trees of height 5 are in the way.)\n",
    "The top-middle 5 is visible from the top and right.\n",
    "The top-right 1 is not visible from any direction; for it to be visible, there would need to only be trees of height 0 between it and an edge.\n",
    "The left-middle 5 is visible, but only from the right.\n",
    "The center 3 is not visible from any direction; for it to be visible, there would need to be only trees of at most height 2 between it and an edge.\n",
    "The right-middle 3 is visible from the right.\n",
    "In the bottom row, the middle 5 is visible, but the 3 and 4 are not.\n",
    "With 16 trees visible on the edge and another 5 visible in the interior, a total of 21 trees are visible in this arrangement.\n",
    "\n",
    "Consider your map; how many trees are visible from outside the grid?"
   ]
  },
  {
   "cell_type": "code",
   "execution_count": 30,
   "metadata": {},
   "outputs": [
    {
     "name": "stdout",
     "output_type": "stream",
     "text": [
      "[[3, 0, 3, 7, 3], [2, 5, 5, 1, 2], [6, 5, 3, 3, 2], [3, 3, 5, 4, 9], [3, 5, 3, 9, 0]]\n",
      "rotation 1\n",
      "rotation 2\n",
      "rotation 3\n",
      "rotation 4\n",
      "5\n"
     ]
    }
   ],
   "source": [
    "sampleRows = \"\"\"30373\n",
    "25512\n",
    "65332\n",
    "33549\n",
    "35390\"\"\"\n",
    "\n",
    "\n",
    "sampleRows = [list(map(int, list(sample.strip()))) for sample in sampleRows.splitlines() ]\n",
    "\n",
    "print(sampleRows)\n",
    "\n",
    "edgeTrees = len(sampleRows[0]) * 2 + (len(sampleRows[0]) - 2) * 2\n",
    "# print(edgeTrees)\n",
    "\n",
    "# from top to bottom\n",
    "\n",
    "# save the locations, then rotate them back to see if they match?\n",
    "\n",
    "def count_visible(sampleRows):\n",
    "\n",
    "    visible = 0\n",
    "\n",
    "    for rotate in range(0,4):\n",
    "        print(\"rotation\", rotate + 1)\n",
    "\n",
    "        curTrees = []\n",
    "        for colInd, col in enumerate(sampleRows[0]):\n",
    "\n",
    "            for rowInd, row in enumerate(sampleRows):\n",
    "                if colInd + 1 == len(sampleRows):\n",
    "                    break\n",
    "                elif colInd == 0:\n",
    "                    curTrees.append(row[0])\n",
    "                elif rowInd == 0 or rowInd + 1 == len(sampleRows):\n",
    "                    curTrees.append(row[colInd])\n",
    "                else:\n",
    "                    curTrees.append(row[colInd])\n",
    "                    # print(curTrees)\n",
    "                    if row[colInd] >= max(curTrees):\n",
    "                        visible += 1\n",
    "                        break\n",
    "                # print(row[colInd])\n",
    "            curTrees = []\n",
    "        \n",
    "        sampleRows = list(map(list,zip(*sampleRows[::-1])))\n",
    "    return visible\n",
    "\n",
    "print(count_visible(sampleRows))"
   ]
  },
  {
   "cell_type": "code",
   "execution_count": 31,
   "metadata": {},
   "outputs": [
    {
     "name": "stdout",
     "output_type": "stream",
     "text": [
      "rotation 1\n",
      "rotation 2\n",
      "rotation 3\n",
      "rotation 4\n",
      "383\n"
     ]
    }
   ],
   "source": [
    "with open('input.txt', 'r') as f:\n",
    "    data = f.read().strip()\n",
    "\n",
    "rows = [list(map(int, list(row.strip()))) for row in data.splitlines()]\n",
    "\n",
    "print(count_visible(rows))"
   ]
  }
 ],
 "metadata": {
  "kernelspec": {
   "display_name": "Python 3.7.0 64-bit",
   "language": "python",
   "name": "python3"
  },
  "language_info": {
   "codemirror_mode": {
    "name": "ipython",
    "version": 3
   },
   "file_extension": ".py",
   "mimetype": "text/x-python",
   "name": "python",
   "nbconvert_exporter": "python",
   "pygments_lexer": "ipython3",
   "version": "3.7.0"
  },
  "orig_nbformat": 4,
  "vscode": {
   "interpreter": {
    "hash": "e28d35bccbadb44b83755d1086fed42c654da6cd559b4dec83a572c4a59f5af3"
   }
  }
 },
 "nbformat": 4,
 "nbformat_minor": 2
}
