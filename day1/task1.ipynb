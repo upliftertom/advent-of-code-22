{
 "cells": [
  {
   "cell_type": "code",
   "execution_count": 7,
   "metadata": {},
   "outputs": [
    {
     "name": "stdout",
     "output_type": "stream",
     "text": [
      "201524\n",
      "69281\n"
     ]
    }
   ],
   "source": [
    "with open(\"input.txt\") as inF:\n",
    "    data = inF.read()\n",
    "\n",
    "max = 0\n",
    "totalList = []\n",
    "\n",
    "for elf in data.split(\"\\n\\n\"):\n",
    "    elf = elf.split(\"\\n\")\n",
    "\n",
    "    total = sum([int(x) for x in elf if x])\n",
    "    totalList.append(total)\n",
    "\n",
    "    if total > max:\n",
    "        max = total\n",
    "\n",
    "totalList = sorted(totalList, reverse=True)\n",
    "\n",
    "print(sum(totalList[:3]))\n",
    "print(max)\n"
   ]
  },
  {
   "cell_type": "code",
   "execution_count": null,
   "metadata": {},
   "outputs": [],
   "source": [
    "#( no joke, these comments were written entirely by copilot - even the\n",
    "# last four!)\n",
    "\n",
    "# load a list of numbers from a file, split it by two newlines, \n",
    "# and then split each group by newlines\n",
    "# then sum the numbers in each group and add them to a list\n",
    "# sort the list in reverse order and print the first three numbers\n",
    "# then print the max number\n",
    "\n",
    "# I'm sure there's a better way to do this, but it works\n",
    "# and I'm tired\n",
    "\n",
    "# I'm also sure there's a better way to do the comments, but\n",
    "# I'm tired of this too\n"
   ]
  }
 ],
 "metadata": {
  "kernelspec": {
   "display_name": "Python 3.7.0 64-bit",
   "language": "python",
   "name": "python3"
  },
  "language_info": {
   "codemirror_mode": {
    "name": "ipython",
    "version": 3
   },
   "file_extension": ".py",
   "mimetype": "text/x-python",
   "name": "python",
   "nbconvert_exporter": "python",
   "pygments_lexer": "ipython3",
   "version": "3.7.0"
  },
  "orig_nbformat": 4,
  "vscode": {
   "interpreter": {
    "hash": "e28d35bccbadb44b83755d1086fed42c654da6cd559b4dec83a572c4a59f5af3"
   }
  }
 },
 "nbformat": 4,
 "nbformat_minor": 2
}
